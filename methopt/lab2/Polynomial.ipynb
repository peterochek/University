{
 "cells": [
  {
   "cell_type": "code",
   "execution_count": null,
   "metadata": {},
   "outputs": [],
   "source": [
    "import numpy as np\n",
    "\n",
    "from autograd import jacobian as autograd_jacobian\n",
    "import autograd.numpy as autograd_np\n",
    "\n",
    "import matplotlib.pyplot as plt"
   ]
  },
  {
   "cell_type": "code",
   "execution_count": null,
   "metadata": {},
   "outputs": [],
   "source": [
    "coeffs = [[1, 1, -2], [-3, 5, 1]]"
   ]
  },
  {
   "cell_type": "code",
   "execution_count": null,
   "metadata": {},
   "outputs": [],
   "source": [
    "xs = np.arange(-5, 5, 0.5)"
   ]
  },
  {
   "cell_type": "code",
   "execution_count": null,
   "metadata": {},
   "outputs": [],
   "source": [
    "def generate_data(coef):\n",
    "    data_x = []\n",
    "    data_y = []\n",
    "    for x in xs:\n",
    "        data_x.append([x ** idx for idx in range(len(coef))])    \n",
    "        data_y.append(sum(coef[idx] * (x ** idx) for idx in range(len(coef))) + 2 * np.random.normal(scale=2))  \n",
    "          \n",
    "    return np.array(data_x), np.array(data_y)"
   ]
  },
  {
   "cell_type": "code",
   "execution_count": null,
   "metadata": {},
   "outputs": [],
   "source": [
    "class GD(object):\n",
    "  def __init__(self, data_x, data_y, learning_rate):\n",
    "    self.x = data_x\n",
    "    self.y = data_y\n",
    "    self.lr = learning_rate\n",
    "    \n",
    "    self.loss_history = []\n",
    "  \n",
    "  def inference(self, x):\n",
    "    return x @ self.weights\n",
    "  \n",
    "  def loss_fn(self, weights):\n",
    "    y_pred = self.x @ weights\n",
    "    \n",
    "    s = autograd_np.mean((y_pred - self.y) ** 2)\n",
    "  \n",
    "    return autograd_np.sqrt(s)\n",
    "    \n",
    "  def train(self, weights, max_epochs):\n",
    "    self.weights = weights\n",
    "    \n",
    "    jc = autograd_jacobian(self.loss_fn)\n",
    "    \n",
    "    for epoch in range(max_epochs):\n",
    "      self.loss = self.loss_fn(self.weights).item()\n",
    "    \n",
    "      self.weights = self.weights - self.lr * jc(self.weights)\n",
    "      \n",
    "      self.loss_history.append(self.loss)\n",
    "      \n",
    "    return self.weights"
   ]
  },
  {
   "cell_type": "code",
   "execution_count": null,
   "metadata": {},
   "outputs": [],
   "source": [
    "lr = 0.01\n",
    "epoch = 500"
   ]
  },
  {
   "cell_type": "code",
   "execution_count": null,
   "metadata": {},
   "outputs": [],
   "source": [
    "for coef in coeffs:\n",
    "    plt.xlabel('epoch')\n",
    "    plt.ylabel('loss')\n",
    "    data_x, data_y = generate_data(coef)\n",
    "    plt.title(f'{repr}')\n",
    "    gd = GD(data_x, data_y, lr)\n",
    "    weights = gd.train(np.random.randn(len(coef)), epoch)\n",
    "    \n",
    "    print(f'{gd.weights=}')\n",
    "    plt.xlabel('epoch')\n",
    "    plt.ylabel('loss')\n",
    "    plt.plot(gd.loss_history)\n",
    "    plt.show()\n",
    "    plt.scatter(xs, data_y, label='true')\n",
    "    plt.scatter(xs, gd.inference(data_x), label='pred')\n",
    "    plt.show()"
   ]
  },
  {
   "cell_type": "code",
   "execution_count": null,
   "metadata": {},
   "outputs": [],
   "source": []
  }
 ],
 "metadata": {
  "kernelspec": {
   "display_name": "venv",
   "language": "python",
   "name": "python3"
  },
  "language_info": {
   "codemirror_mode": {
    "name": "ipython",
    "version": 3
   },
   "file_extension": ".py",
   "mimetype": "text/x-python",
   "name": "python",
   "nbconvert_exporter": "python",
   "pygments_lexer": "ipython3",
   "version": "3.10.10"
  },
  "orig_nbformat": 4
 },
 "nbformat": 4,
 "nbformat_minor": 2
}
