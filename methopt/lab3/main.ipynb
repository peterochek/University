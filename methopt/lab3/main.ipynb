{
 "cells": [
  {
   "cell_type": "code",
   "execution_count": 1,
   "metadata": {},
   "outputs": [],
   "source": [
    "import numpy as np\n",
    "import matplotlib.pyplot as plt\n",
    "from matplotlib import cm\n",
    "from math import e"
   ]
  },
  {
   "attachments": {},
   "cell_type": "markdown",
   "metadata": {},
   "source": [
    "#### Given response vector y, dependent variable x and fit function f. <br/> Minimize sum(residual²) where residual = f(x, coefficients) - y."
   ]
  },
  {
   "cell_type": "code",
   "execution_count": 2,
   "metadata": {},
   "outputs": [],
   "source": [
    "xs = np.arange(-10, 10, 0.1)\n",
    "\n",
    "def gen_2d(func, degree):\n",
    "    data_x = []\n",
    "    data_y = []\n",
    "    for x in xs:\n",
    "        data_x.append([x ** idx for idx in range(degree)])    \n",
    "        data_y.append(func(x))   \n",
    "            \n",
    "    data_x = np.array(data_x)\n",
    "    data_y = np.array(data_y)\n",
    "    \n",
    "    delta = np.max(data_y) - np.min(data_y)\n",
    "    \n",
    "    noise = data_y + delta * 0.01 * np.random.randn(len(data_x))\n",
    "    \n",
    "    return data_x, data_y, noise"
   ]
  },
  {
   "cell_type": "code",
   "execution_count": 3,
   "metadata": {},
   "outputs": [],
   "source": [
    "def plot_2d(true, noise, fits, residuals, method_name, info):\n",
    "    from pathlib import Path\n",
    "    Path(f\"/home/peter/PycharmProjects/methopt/lab3/{method_name}/{info}\").mkdir(parents=True, exist_ok=True)\n",
    "    if method_name == 'SGD':\n",
    "        step = 50\n",
    "        fits = fits[::step]\n",
    "        residuals = residuals[::step]\n",
    "        iterator = enumerate(zip(fits, residuals))\n",
    "    else:\n",
    "        iterator = enumerate(zip(fits, residuals))\n",
    "        \n",
    "    for idx, (fit, residual) in iterator:\n",
    "        fig = plt.figure()\n",
    "        plt.plot(xs, true, label=\"true\", linewidth=2)\n",
    "        plt.plot(xs, noise, label=\"noise\", linewidth=2)\n",
    "        plt.plot(xs, fit, label=\"fit\", linewidth=2)\n",
    "        plt.plot(xs, residual, label=\"res\", linewidth=2)\n",
    "        plt.title(f\"{method_name}_{info}\")\n",
    "        plt.xlabel(\"X\")\n",
    "        plt.ylabel(\"Y\")\n",
    "        plt.legend(loc='upper left')\n",
    "        plt.savefig(f'{method_name}/{info}/{idx}.png', dpi=300)\n",
    "        plt.close(fig)"
   ]
  },
  {
   "cell_type": "code",
   "execution_count": 4,
   "metadata": {},
   "outputs": [],
   "source": [
    "funcs = [\n",
    "    ([4], 'sigmoid', lambda x: -5 + 10 / (1 + e ** (-x / 2))),\n",
    "    # ([3], 'poly2', lambda x: 2 - 3 * x + x ** 2),\n",
    "    ([5], 'poly3', lambda x: x - x ** 2 + x ** 3),\n",
    "    # (5, lambda x: np.sin(5 * x) / (np.abs(x) + 1e-4))\n",
    "]"
   ]
  },
  {
   "cell_type": "code",
   "execution_count": 5,
   "metadata": {},
   "outputs": [],
   "source": [
    "from dogleg import DogLeg\n",
    "from gn import GN\n",
    "from bfgs import BFGS\n",
    "from sgd import SGD\n",
    "\n",
    "for poly_degs, func_desc, func in funcs:   \n",
    "    for degree in poly_degs:\n",
    "        input, true, noise = gen_2d(func, degree)\n",
    "        init_guess = np.random.random(degree)\n",
    "        # ('GN', GN), ('DogLeg', DogLeg), ('BFGS', BFGS), ('SGD', SGD)\n",
    "        for method_name, variant in []:\n",
    "            solver = variant()\n",
    "            coefficients, fits, residuals = solver.fit(input, noise, init_guess)\n",
    "            poly_info = f'approx_deg{degree}'\n",
    "            info = f'{func_desc}-{poly_info}'\n",
    "\n",
    "            plot_2d(true, noise, fits, residuals, method_name, info)"
   ]
  },
  {
   "cell_type": "code",
   "execution_count": 6,
   "metadata": {},
   "outputs": [
    {
     "name": "stdout",
     "output_type": "stream",
     "text": [
      "./convert.sh: line 7: cd: */: No such file or directory\n",
      "4\n",
      ".80\n",
      "ffmpeg version n6.0 Copyright (c) 2000-2023 the FFmpeg developers\n",
      "  built with gcc 12.2.1 (GCC) 20230201\n",
      "  configuration: --prefix=/usr --disable-debug --disable-static --disable-stripping --enable-amf --enable-avisynth --enable-cuda-llvm --enable-lto --enable-fontconfig --enable-gmp --enable-gnutls --enable-gpl --enable-ladspa --enable-libaom --enable-libass --enable-libbluray --enable-libbs2b --enable-libdav1d --enable-libdrm --enable-libfreetype --enable-libfribidi --enable-libgsm --enable-libiec61883 --enable-libjack --enable-libjxl --enable-libmfx --enable-libmodplug --enable-libmp3lame --enable-libopencore_amrnb --enable-libopencore_amrwb --enable-libopenjpeg --enable-libopenmpt --enable-libopus --enable-libpulse --enable-librav1e --enable-librsvg --enable-libsoxr --enable-libspeex --enable-libsrt --enable-libssh --enable-libsvtav1 --enable-libtheora --enable-libv4l2 --enable-libvidstab --enable-libvmaf --enable-libvorbis --enable-libvpx --enable-libwebp --enable-libx264 --enable-libx265 --enable-libxcb --enable-libxml2 --enable-libxvid --enable-libzimg --enable-nvdec --enable-nvenc --enable-opencl --enable-opengl --enable-shared --enable-version3 --enable-vulkan\n",
      "  libavutil      58.  2.100 / 58.  2.100\n",
      "  libavcodec     60.  3.100 / 60.  3.100\n",
      "  libavformat    60.  3.100 / 60.  3.100\n",
      "  libavdevice    60.  1.100 / 60.  1.100\n",
      "  libavfilter     9.  3.100 /  9.  3.100\n",
      "  libswscale      7.  1.100 /  7.  1.100\n",
      "  libswresample   4. 10.100 /  4. 10.100\n",
      "  libpostproc    57.  1.100 / 57.  1.100\n",
      "\u001b[0;35m[image2 @ 0x5644bb474f00] \u001b[0m\u001b[1;31mCould find no file with path '%d.png' and index in the range 0-4\n",
      "\u001b[0m\u001b[1;31m%d.png: No such file or directory\n",
      "\u001b[0mrm: cannot remove 'palette.png': No such file or directory\n"
     ]
    }
   ],
   "source": [
    "!./convert.sh"
   ]
  },
  {
   "cell_type": "code",
   "execution_count": null,
   "metadata": {},
   "outputs": [],
   "source": []
  }
 ],
 "metadata": {
  "kernelspec": {
   "display_name": "venv",
   "language": "python",
   "name": "python3"
  },
  "language_info": {
   "codemirror_mode": {
    "name": "ipython",
    "version": 3
   },
   "file_extension": ".py",
   "mimetype": "text/x-python",
   "name": "python",
   "nbconvert_exporter": "python",
   "pygments_lexer": "ipython3",
   "version": "3.11.3"
  },
  "orig_nbformat": 4
 },
 "nbformat": 4,
 "nbformat_minor": 2
}
