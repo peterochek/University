{
 "cells": [
  {
   "cell_type": "code",
   "execution_count": 1,
   "id": "initial_id",
   "metadata": {
    "collapsed": true
   },
   "outputs": [],
   "source": [
    "from sklearn.datasets import fetch_openml\n",
    "from sklearn.model_selection import train_test_split\n",
    "from sklearn.metrics import classification_report\n",
    "\n",
    "\n",
    "mnist = fetch_openml(\"mnist_784\", version=1)\n",
    "X, y = mnist.data, mnist.target.astype(int)\n",
    "\n",
    "y = y.values\n",
    "\n",
    "reduce_param = 20\n",
    "\n",
    "X, y = X[::reduce_param], y[::reduce_param]"
   ]
  },
  {
   "cell_type": "code",
   "execution_count": 2,
   "id": "eedf99255560f14b",
   "metadata": {
    "collapsed": false
   },
   "outputs": [],
   "source": [
    "X_train, X_test, y_train, y_test = train_test_split(\n",
    "    X, y, test_size=0.2, random_state=42\n",
    ")\n",
    "\n",
    "X_train, X_val, y_train, y_val = train_test_split(\n",
    "    X_train, y_train, test_size=0.25, random_state=42\n",
    ")"
   ]
  },
  {
   "cell_type": "code",
   "execution_count": 3,
   "id": "a5d11871cd1e4c1",
   "metadata": {
    "collapsed": false
   },
   "outputs": [],
   "source": [
    "from lowess import Lowess"
   ]
  },
  {
   "cell_type": "code",
   "execution_count": 4,
   "id": "ac7a928ef7afc203",
   "metadata": {
    "collapsed": false
   },
   "outputs": [],
   "source": [
    "reweight_algo = Lowess(5)"
   ]
  },
  {
   "cell_type": "code",
   "execution_count": 5,
   "id": "ee56d7ee6c1da6de",
   "metadata": {
    "collapsed": false
   },
   "outputs": [],
   "source": [
    "reweight_algo.fit(X_train, y_train)"
   ]
  },
  {
   "cell_type": "code",
   "execution_count": 6,
   "id": "7eb2d8dd",
   "metadata": {},
   "outputs": [
    {
     "name": "stderr",
     "output_type": "stream",
     "text": [
      "100%|██████████| 2100/2100 [00:40<00:00, 52.23it/s]\n"
     ]
    }
   ],
   "source": [
    "better_weights = reweight_algo.corrected_weights()"
   ]
  },
  {
   "cell_type": "code",
   "execution_count": 7,
   "id": "069d8aa5",
   "metadata": {},
   "outputs": [
    {
     "data": {
      "text/plain": [
       "2100"
      ]
     },
     "execution_count": 7,
     "metadata": {},
     "output_type": "execute_result"
    }
   ],
   "source": [
    "assert len(better_weights) == len(X_train)"
   ]
  },
  {
   "cell_type": "code",
   "execution_count": 8,
   "id": "e067bed7",
   "metadata": {},
   "outputs": [
    {
     "name": "stdout",
     "output_type": "stream",
     "text": [
      "              precision    recall  f1-score   support\n",
      "\n",
      "           0       0.93      1.00      0.96        65\n",
      "           1       0.77      1.00      0.87        73\n",
      "           2       0.97      0.76      0.85        76\n",
      "           3       0.93      0.91      0.92        86\n",
      "           4       0.87      0.91      0.89        58\n",
      "           5       0.96      0.85      0.90        52\n",
      "           6       0.91      0.98      0.95        65\n",
      "           7       0.81      0.86      0.83        92\n",
      "           8       0.94      0.79      0.86        63\n",
      "           9       0.84      0.76      0.80        70\n",
      "\n",
      "    accuracy                           0.88       700\n",
      "   macro avg       0.89      0.88      0.88       700\n",
      "weighted avg       0.89      0.88      0.88       700\n",
      "\n"
     ]
    }
   ],
   "source": [
    "from knn import NearestNeighbor\n",
    "\n",
    "model = NearestNeighbor(n_neighbors=15)\n",
    "\n",
    "model.fit(X_train, y_train)\n",
    "\n",
    "preds = model.predict(X_test)\n",
    "\n",
    "print(classification_report(y_test, preds))"
   ]
  },
  {
   "cell_type": "code",
   "execution_count": 13,
   "id": "127e7c59",
   "metadata": {},
   "outputs": [
    {
     "name": "stdout",
     "output_type": "stream",
     "text": [
      "              precision    recall  f1-score   support\n",
      "\n",
      "           0       0.93      0.98      0.96        65\n",
      "           1       0.76      1.00      0.86        73\n",
      "           2       0.98      0.75      0.85        76\n",
      "           3       0.91      0.92      0.91        86\n",
      "           4       0.87      0.90      0.88        58\n",
      "           5       0.96      0.83      0.89        52\n",
      "           6       0.90      0.98      0.94        65\n",
      "           7       0.80      0.86      0.83        92\n",
      "           8       0.96      0.78      0.86        63\n",
      "           9       0.83      0.76      0.79        70\n",
      "\n",
      "    accuracy                           0.88       700\n",
      "   macro avg       0.89      0.88      0.88       700\n",
      "weighted avg       0.88      0.88      0.87       700\n",
      "\n"
     ]
    }
   ],
   "source": [
    "model.fit(X_train, y_train, better_weights)\n",
    "\n",
    "preds = model.predict(X_test)\n",
    "\n",
    "print(classification_report(y_test, preds))"
   ]
  },
  {
   "cell_type": "code",
   "execution_count": null,
   "metadata": {},
   "outputs": [],
   "source": []
  }
 ],
 "metadata": {
  "kernelspec": {
   "display_name": "Python 3",
   "language": "python",
   "name": "python3"
  },
  "language_info": {
   "codemirror_mode": {
    "name": "ipython",
    "version": 3
   },
   "file_extension": ".py",
   "mimetype": "text/x-python",
   "name": "python",
   "nbconvert_exporter": "python",
   "pygments_lexer": "ipython3",
   "version": "3.11.8"
  }
 },
 "nbformat": 4,
 "nbformat_minor": 5
}
