{
 "cells": [
  {
   "cell_type": "code",
   "execution_count": 1,
   "metadata": {},
   "outputs": [],
   "source": [
    "import torch\n",
    "import torch.nn as nn\n",
    "import torch.optim as optim\n",
    "import numpy as np\n",
    "\n",
    "import matplotlib.pyplot as plt"
   ]
  },
  {
   "cell_type": "code",
   "execution_count": 2,
   "metadata": {},
   "outputs": [
    {
     "name": "stdout",
     "output_type": "stream",
     "text": [
      "[*********************100%%**********************]  1 of 1 completed\n"
     ]
    }
   ],
   "source": [
    "from timeseries.data import Data\n",
    "\n",
    "\n",
    "data_class = Data()\n",
    "\n",
    "train_len, data = data_class.fwd()"
   ]
  },
  {
   "cell_type": "code",
   "execution_count": 3,
   "metadata": {},
   "outputs": [],
   "source": [
    "data = torch.Tensor(data).view(-1, 1)"
   ]
  },
  {
   "cell_type": "code",
   "execution_count": 4,
   "metadata": {},
   "outputs": [],
   "source": [
    "train, test = data[:train_len], data[train_len:]"
   ]
  },
  {
   "cell_type": "code",
   "execution_count": 5,
   "metadata": {},
   "outputs": [],
   "source": [
    "from timeseries.constants import PREV\n",
    "\n",
    "\n",
    "def create_sequences(data, seq_length):\n",
    "    sequences, targets = [], []\n",
    "    for i in range(len(data) - seq_length):\n",
    "        seq = data[i:i+seq_length]\n",
    "        target = data[i+seq_length]\n",
    "        sequences.append(seq)\n",
    "        targets.append(target)\n",
    "    return torch.stack(sequences), torch.stack(targets)\n",
    "\n",
    "seq_length = PREV  # Length of input sequences\n",
    "train_sequences, train_targets = create_sequences(train, seq_length)\n",
    "test_sequences, test_targets = create_sequences(test, seq_length)"
   ]
  },
  {
   "cell_type": "code",
   "execution_count": 6,
   "metadata": {},
   "outputs": [],
   "source": [
    "from timeseries.constants import HIDDEN_SIZE\n",
    "\n",
    "\n",
    "input_size = 1\n",
    "hidden_size = HIDDEN_SIZE\n",
    "num_layers = 2\n",
    "output_size = 1"
   ]
  },
  {
   "cell_type": "code",
   "execution_count": 7,
   "metadata": {},
   "outputs": [],
   "source": [
    "from timeseries.constants import LR\n",
    "from timeseries.torch_model import TorchRNN\n",
    "\n",
    "\n",
    "model = TorchRNN(input_size, hidden_size, num_layers, output_size)\n",
    "\n",
    "criterion = nn.MSELoss()\n",
    "optimizer = optim.Adam(model.parameters(), lr=LR)"
   ]
  },
  {
   "cell_type": "code",
   "execution_count": 8,
   "metadata": {},
   "outputs": [
    {
     "name": "stderr",
     "output_type": "stream",
     "text": [
      "100%|██████████| 100/100 [00:24<00:00,  4.13it/s]\n"
     ]
    }
   ],
   "source": [
    "from tqdm import trange\n",
    "\n",
    "from timeseries.constants import EPOCHS\n",
    "\n",
    "\n",
    "num_epochs = EPOCHS\n",
    "for epoch in trange(num_epochs):\n",
    "    for i in range(len(train_sequences)):\n",
    "        inputs, target = train_sequences[i].unsqueeze(0), train_targets[i].unsqueeze(0)\n",
    "        optimizer.zero_grad()\n",
    "        outputs = model(inputs)\n",
    "        loss = criterion(outputs, target)\n",
    "        loss.backward()\n",
    "        optimizer.step()"
   ]
  },
  {
   "cell_type": "code",
   "execution_count": 9,
   "metadata": {},
   "outputs": [
    {
     "name": "stderr",
     "output_type": "stream",
     "text": [
      "/tmp/ipykernel_72671/2605822629.py:3: UserWarning: To copy construct from a tensor, it is recommended to use sourceTensor.clone().detach() or sourceTensor.clone().detach().requires_grad_(True), rather than torch.tensor(sourceTensor).\n",
      "  window = torch.tensor(train[-PREV:])\n"
     ]
    }
   ],
   "source": [
    "preds = []\n",
    "\n",
    "window = torch.tensor(train[-PREV:])\n",
    "\n",
    "model.eval()\n",
    "with torch.no_grad():\n",
    "    predicted_prices = []\n",
    "    for i in range(len(test)):\n",
    "        x = window.reshape(1, PREV, 1)\n",
    "        new_tick = model(x)\n",
    "        \n",
    "        window = window.numpy().tolist()\n",
    "        \n",
    "        window.append([new_tick.item()])\n",
    "        window = torch.tensor(window[1:])\n",
    "        \n",
    "        preds.append(new_tick.item())"
   ]
  },
  {
   "cell_type": "code",
   "execution_count": 10,
   "metadata": {},
   "outputs": [],
   "source": [
    "preds = np.array(preds)\n",
    "test = test.numpy()"
   ]
  },
  {
   "cell_type": "code",
   "execution_count": 11,
   "metadata": {},
   "outputs": [
    {
     "data": {
      "image/png": "[encoded data removed]",
      "text/plain": [
       "<Figure size 640x480 with 1 Axes>"
      ]
     },
     "metadata": {},
     "output_type": "display_data"
    }
   ],
   "source": [
    "preds = data_class.bkwd(preds)\n",
    "test = data_class.bkwd(test)\n",
    "\n",
    "plt.plot(preds, 'g')\n",
    "plt.plot(test, 'r')\n",
    "plt.show()"
   ]
  },
  {
   "cell_type": "code",
   "execution_count": 12,
   "metadata": {},
   "outputs": [
    {
     "data": {
      "text/plain": [
       "40.67886576402192"
      ]
     },
     "execution_count": 12,
     "metadata": {},
     "output_type": "execute_result"
    }
   ],
   "source": [
    "import math\n",
    "from sklearn.metrics import mean_squared_error\n",
    "\n",
    "math.sqrt(mean_squared_error(preds, test))"
   ]
  },
  {
   "cell_type": "code",
   "execution_count": null,
   "metadata": {},
   "outputs": [],
   "source": []
  }
 ],
 "metadata": {
  "kernelspec": {
   "display_name": "torch",
   "language": "python",
   "name": "python3"
  },
  "language_info": {
   "codemirror_mode": {
    "name": "ipython",
    "version": 3
   },
   "file_extension": ".py",
   "mimetype": "text/x-python",
   "name": "python",
   "nbconvert_exporter": "python",
   "pygments_lexer": "ipython3",
   "version": "3.11.5"
  }
 },
 "nbformat": 4,
 "nbformat_minor": 2
}
