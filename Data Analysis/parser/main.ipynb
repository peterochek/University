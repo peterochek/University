{
 "cells": [
  {
   "cell_type": "code",
   "execution_count": 1,
   "id": "initial_id",
   "metadata": {
    "ExecuteTime": {
     "end_time": "2023-09-29T20:31:44.755273889Z",
     "start_time": "2023-09-29T20:31:44.709360899Z"
    }
   },
   "outputs": [],
   "source": [
    "from analytics import create_imdb_df\n",
    "import pandas as pd"
   ]
  },
  {
   "cell_type": "code",
   "execution_count": 2,
   "id": "57fbad99",
   "metadata": {
    "ExecuteTime": {
     "end_time": "2023-09-29T20:31:44.761602332Z",
     "start_time": "2023-09-29T20:31:44.714032362Z"
    }
   },
   "outputs": [],
   "source": [
    "# from downloader import download_all_imdb_pages\n",
    "# download_all_imdb_pages()"
   ]
  },
  {
   "cell_type": "code",
   "execution_count": 3,
   "id": "fcd468f5b0cc702c",
   "metadata": {
    "ExecuteTime": {
     "end_time": "2023-09-29T20:31:44.823082697Z",
     "start_time": "2023-09-29T20:31:44.758449425Z"
    },
    "collapsed": false
   },
   "outputs": [
    {
     "ename": "FileNotFoundError",
     "evalue": "[Errno 2] No such file or directory: 'imdb.csv'",
     "output_type": "error",
     "traceback": [
      "\u001b[0;31m---------------------------------------------------------------------------\u001b[0m",
      "\u001b[0;31mFileNotFoundError\u001b[0m                         Traceback (most recent call last)",
      "\u001b[1;32m/home/peter/university/3course/ML_DA/parser/main.ipynb Cell 3\u001b[0m line \u001b[0;36m2\n\u001b[1;32m      <a href='vscode-notebook-cell:/home/peter/university/3course/ML_DA/parser/main.ipynb#W2sZmlsZQ%3D%3D?line=0'>1</a>\u001b[0m \u001b[39m# df = create_imdb_df()\u001b[39;00m\n\u001b[0;32m----> <a href='vscode-notebook-cell:/home/peter/university/3course/ML_DA/parser/main.ipynb#W2sZmlsZQ%3D%3D?line=1'>2</a>\u001b[0m df \u001b[39m=\u001b[39m pd\u001b[39m.\u001b[39;49mread_csv(\u001b[39m'\u001b[39;49m\u001b[39mimdb.csv\u001b[39;49m\u001b[39m'\u001b[39;49m, dtype\u001b[39m=\u001b[39;49m\u001b[39m'\u001b[39;49m\u001b[39mstr\u001b[39;49m\u001b[39m'\u001b[39;49m, keep_default_na\u001b[39m=\u001b[39;49m\u001b[39mFalse\u001b[39;49;00m)\n",
      "File \u001b[0;32m~/university/3course/ML_DA/parser/venv/lib/python3.11/site-packages/pandas/io/parsers/readers.py:948\u001b[0m, in \u001b[0;36mread_csv\u001b[0;34m(filepath_or_buffer, sep, delimiter, header, names, index_col, usecols, dtype, engine, converters, true_values, false_values, skipinitialspace, skiprows, skipfooter, nrows, na_values, keep_default_na, na_filter, verbose, skip_blank_lines, parse_dates, infer_datetime_format, keep_date_col, date_parser, date_format, dayfirst, cache_dates, iterator, chunksize, compression, thousands, decimal, lineterminator, quotechar, quoting, doublequote, escapechar, comment, encoding, encoding_errors, dialect, on_bad_lines, delim_whitespace, low_memory, memory_map, float_precision, storage_options, dtype_backend)\u001b[0m\n\u001b[1;32m    935\u001b[0m kwds_defaults \u001b[39m=\u001b[39m _refine_defaults_read(\n\u001b[1;32m    936\u001b[0m     dialect,\n\u001b[1;32m    937\u001b[0m     delimiter,\n\u001b[0;32m   (...)\u001b[0m\n\u001b[1;32m    944\u001b[0m     dtype_backend\u001b[39m=\u001b[39mdtype_backend,\n\u001b[1;32m    945\u001b[0m )\n\u001b[1;32m    946\u001b[0m kwds\u001b[39m.\u001b[39mupdate(kwds_defaults)\n\u001b[0;32m--> 948\u001b[0m \u001b[39mreturn\u001b[39;00m _read(filepath_or_buffer, kwds)\n",
      "File \u001b[0;32m~/university/3course/ML_DA/parser/venv/lib/python3.11/site-packages/pandas/io/parsers/readers.py:611\u001b[0m, in \u001b[0;36m_read\u001b[0;34m(filepath_or_buffer, kwds)\u001b[0m\n\u001b[1;32m    608\u001b[0m _validate_names(kwds\u001b[39m.\u001b[39mget(\u001b[39m\"\u001b[39m\u001b[39mnames\u001b[39m\u001b[39m\"\u001b[39m, \u001b[39mNone\u001b[39;00m))\n\u001b[1;32m    610\u001b[0m \u001b[39m# Create the parser.\u001b[39;00m\n\u001b[0;32m--> 611\u001b[0m parser \u001b[39m=\u001b[39m TextFileReader(filepath_or_buffer, \u001b[39m*\u001b[39;49m\u001b[39m*\u001b[39;49mkwds)\n\u001b[1;32m    613\u001b[0m \u001b[39mif\u001b[39;00m chunksize \u001b[39mor\u001b[39;00m iterator:\n\u001b[1;32m    614\u001b[0m     \u001b[39mreturn\u001b[39;00m parser\n",
      "File \u001b[0;32m~/university/3course/ML_DA/parser/venv/lib/python3.11/site-packages/pandas/io/parsers/readers.py:1448\u001b[0m, in \u001b[0;36mTextFileReader.__init__\u001b[0;34m(self, f, engine, **kwds)\u001b[0m\n\u001b[1;32m   1445\u001b[0m     \u001b[39mself\u001b[39m\u001b[39m.\u001b[39moptions[\u001b[39m\"\u001b[39m\u001b[39mhas_index_names\u001b[39m\u001b[39m\"\u001b[39m] \u001b[39m=\u001b[39m kwds[\u001b[39m\"\u001b[39m\u001b[39mhas_index_names\u001b[39m\u001b[39m\"\u001b[39m]\n\u001b[1;32m   1447\u001b[0m \u001b[39mself\u001b[39m\u001b[39m.\u001b[39mhandles: IOHandles \u001b[39m|\u001b[39m \u001b[39mNone\u001b[39;00m \u001b[39m=\u001b[39m \u001b[39mNone\u001b[39;00m\n\u001b[0;32m-> 1448\u001b[0m \u001b[39mself\u001b[39m\u001b[39m.\u001b[39m_engine \u001b[39m=\u001b[39m \u001b[39mself\u001b[39;49m\u001b[39m.\u001b[39;49m_make_engine(f, \u001b[39mself\u001b[39;49m\u001b[39m.\u001b[39;49mengine)\n",
      "File \u001b[0;32m~/university/3course/ML_DA/parser/venv/lib/python3.11/site-packages/pandas/io/parsers/readers.py:1705\u001b[0m, in \u001b[0;36mTextFileReader._make_engine\u001b[0;34m(self, f, engine)\u001b[0m\n\u001b[1;32m   1703\u001b[0m     \u001b[39mif\u001b[39;00m \u001b[39m\"\u001b[39m\u001b[39mb\u001b[39m\u001b[39m\"\u001b[39m \u001b[39mnot\u001b[39;00m \u001b[39min\u001b[39;00m mode:\n\u001b[1;32m   1704\u001b[0m         mode \u001b[39m+\u001b[39m\u001b[39m=\u001b[39m \u001b[39m\"\u001b[39m\u001b[39mb\u001b[39m\u001b[39m\"\u001b[39m\n\u001b[0;32m-> 1705\u001b[0m \u001b[39mself\u001b[39m\u001b[39m.\u001b[39mhandles \u001b[39m=\u001b[39m get_handle(\n\u001b[1;32m   1706\u001b[0m     f,\n\u001b[1;32m   1707\u001b[0m     mode,\n\u001b[1;32m   1708\u001b[0m     encoding\u001b[39m=\u001b[39;49m\u001b[39mself\u001b[39;49m\u001b[39m.\u001b[39;49moptions\u001b[39m.\u001b[39;49mget(\u001b[39m\"\u001b[39;49m\u001b[39mencoding\u001b[39;49m\u001b[39m\"\u001b[39;49m, \u001b[39mNone\u001b[39;49;00m),\n\u001b[1;32m   1709\u001b[0m     compression\u001b[39m=\u001b[39;49m\u001b[39mself\u001b[39;49m\u001b[39m.\u001b[39;49moptions\u001b[39m.\u001b[39;49mget(\u001b[39m\"\u001b[39;49m\u001b[39mcompression\u001b[39;49m\u001b[39m\"\u001b[39;49m, \u001b[39mNone\u001b[39;49;00m),\n\u001b[1;32m   1710\u001b[0m     memory_map\u001b[39m=\u001b[39;49m\u001b[39mself\u001b[39;49m\u001b[39m.\u001b[39;49moptions\u001b[39m.\u001b[39;49mget(\u001b[39m\"\u001b[39;49m\u001b[39mmemory_map\u001b[39;49m\u001b[39m\"\u001b[39;49m, \u001b[39mFalse\u001b[39;49;00m),\n\u001b[1;32m   1711\u001b[0m     is_text\u001b[39m=\u001b[39;49mis_text,\n\u001b[1;32m   1712\u001b[0m     errors\u001b[39m=\u001b[39;49m\u001b[39mself\u001b[39;49m\u001b[39m.\u001b[39;49moptions\u001b[39m.\u001b[39;49mget(\u001b[39m\"\u001b[39;49m\u001b[39mencoding_errors\u001b[39;49m\u001b[39m\"\u001b[39;49m, \u001b[39m\"\u001b[39;49m\u001b[39mstrict\u001b[39;49m\u001b[39m\"\u001b[39;49m),\n\u001b[1;32m   1713\u001b[0m     storage_options\u001b[39m=\u001b[39;49m\u001b[39mself\u001b[39;49m\u001b[39m.\u001b[39;49moptions\u001b[39m.\u001b[39;49mget(\u001b[39m\"\u001b[39;49m\u001b[39mstorage_options\u001b[39;49m\u001b[39m\"\u001b[39;49m, \u001b[39mNone\u001b[39;49;00m),\n\u001b[1;32m   1714\u001b[0m )\n\u001b[1;32m   1715\u001b[0m \u001b[39massert\u001b[39;00m \u001b[39mself\u001b[39m\u001b[39m.\u001b[39mhandles \u001b[39mis\u001b[39;00m \u001b[39mnot\u001b[39;00m \u001b[39mNone\u001b[39;00m\n\u001b[1;32m   1716\u001b[0m f \u001b[39m=\u001b[39m \u001b[39mself\u001b[39m\u001b[39m.\u001b[39mhandles\u001b[39m.\u001b[39mhandle\n",
      "File \u001b[0;32m~/university/3course/ML_DA/parser/venv/lib/python3.11/site-packages/pandas/io/common.py:863\u001b[0m, in \u001b[0;36mget_handle\u001b[0;34m(path_or_buf, mode, encoding, compression, memory_map, is_text, errors, storage_options)\u001b[0m\n\u001b[1;32m    858\u001b[0m \u001b[39melif\u001b[39;00m \u001b[39misinstance\u001b[39m(handle, \u001b[39mstr\u001b[39m):\n\u001b[1;32m    859\u001b[0m     \u001b[39m# Check whether the filename is to be opened in binary mode.\u001b[39;00m\n\u001b[1;32m    860\u001b[0m     \u001b[39m# Binary mode does not support 'encoding' and 'newline'.\u001b[39;00m\n\u001b[1;32m    861\u001b[0m     \u001b[39mif\u001b[39;00m ioargs\u001b[39m.\u001b[39mencoding \u001b[39mand\u001b[39;00m \u001b[39m\"\u001b[39m\u001b[39mb\u001b[39m\u001b[39m\"\u001b[39m \u001b[39mnot\u001b[39;00m \u001b[39min\u001b[39;00m ioargs\u001b[39m.\u001b[39mmode:\n\u001b[1;32m    862\u001b[0m         \u001b[39m# Encoding\u001b[39;00m\n\u001b[0;32m--> 863\u001b[0m         handle \u001b[39m=\u001b[39m \u001b[39mopen\u001b[39;49m(\n\u001b[1;32m    864\u001b[0m             handle,\n\u001b[1;32m    865\u001b[0m             ioargs\u001b[39m.\u001b[39;49mmode,\n\u001b[1;32m    866\u001b[0m             encoding\u001b[39m=\u001b[39;49mioargs\u001b[39m.\u001b[39;49mencoding,\n\u001b[1;32m    867\u001b[0m             errors\u001b[39m=\u001b[39;49merrors,\n\u001b[1;32m    868\u001b[0m             newline\u001b[39m=\u001b[39;49m\u001b[39m\"\u001b[39;49m\u001b[39m\"\u001b[39;49m,\n\u001b[1;32m    869\u001b[0m         )\n\u001b[1;32m    870\u001b[0m     \u001b[39melse\u001b[39;00m:\n\u001b[1;32m    871\u001b[0m         \u001b[39m# Binary mode\u001b[39;00m\n\u001b[1;32m    872\u001b[0m         handle \u001b[39m=\u001b[39m \u001b[39mopen\u001b[39m(handle, ioargs\u001b[39m.\u001b[39mmode)\n",
      "\u001b[0;31mFileNotFoundError\u001b[0m: [Errno 2] No such file or directory: 'imdb.csv'"
     ]
    }
   ],
   "source": [
    "# df = create_imdb_df()\n",
    "df = pd.read_csv('imdb.csv', dtype='str', keep_default_na=False)"
   ]
  },
  {
   "cell_type": "code",
   "execution_count": null,
   "id": "e09ae606",
   "metadata": {
    "ExecuteTime": {
     "end_time": "2023-09-29T20:31:44.825056547Z",
     "start_time": "2023-09-29T20:31:44.763715724Z"
    }
   },
   "outputs": [
    {
     "data": {
      "text/plain": [
       "url            object\n",
       "title          object\n",
       "year           object\n",
       "rating         object\n",
       "runtime        object\n",
       "certificate    object\n",
       "genre          object\n",
       "metascore      object\n",
       "description    object\n",
       "cast           object\n",
       "votes          object\n",
       "gross          object\n",
       "dtype: object"
      ]
     },
     "execution_count": 65,
     "metadata": {},
     "output_type": "execute_result"
    }
   ],
   "source": [
    "df.dtypes"
   ]
  },
  {
   "cell_type": "code",
   "execution_count": 4,
   "id": "211152b9e06de8a1",
   "metadata": {
    "ExecuteTime": {
     "end_time": "2023-09-29T20:31:44.825671358Z",
     "start_time": "2023-09-29T20:31:44.805390686Z"
    },
    "collapsed": false
   },
   "outputs": [
    {
     "ename": "NameError",
     "evalue": "name 'df' is not defined",
     "output_type": "error",
     "traceback": [
      "\u001b[0;31m---------------------------------------------------------------------------\u001b[0m",
      "\u001b[0;31mNameError\u001b[0m                                 Traceback (most recent call last)",
      "\u001b[1;32m/home/peter/university/3course/ML_DA/parser/main.ipynb Cell 5\u001b[0m line \u001b[0;36m1\n\u001b[0;32m----> <a href='vscode-notebook-cell:/home/peter/university/3course/ML_DA/parser/main.ipynb#W4sZmlsZQ%3D%3D?line=0'>1</a>\u001b[0m df\u001b[39m.\u001b[39mhead()\n",
      "\u001b[0;31mNameError\u001b[0m: name 'df' is not defined"
     ]
    }
   ],
   "source": [
    "df.head()"
   ]
  },
  {
   "cell_type": "code",
   "execution_count": 67,
   "id": "b9a42b6b",
   "metadata": {
    "ExecuteTime": {
     "end_time": "2023-09-29T20:31:44.825955332Z",
     "start_time": "2023-09-29T20:31:44.805832570Z"
    }
   },
   "outputs": [
    {
     "data": {
      "text/plain": [
       "9998"
      ]
     },
     "execution_count": 67,
     "metadata": {},
     "output_type": "execute_result"
    }
   ],
   "source": [
    "len(df)"
   ]
  },
  {
   "cell_type": "code",
   "execution_count": 68,
   "id": "a02d6363",
   "metadata": {
    "ExecuteTime": {
     "end_time": "2023-09-29T20:31:44.826091941Z",
     "start_time": "2023-09-29T20:31:44.806056691Z"
    }
   },
   "outputs": [],
   "source": [
    "# from downloader import download_all_boxoffice_pages\n",
    "\n",
    "# urls = df['url'].tolist()\n",
    "# download_all_boxoffice_pages(urls)"
   ]
  },
  {
   "cell_type": "code",
   "execution_count": 69,
   "id": "2369c0fc490331c3",
   "metadata": {
    "ExecuteTime": {
     "end_time": "2023-09-29T20:31:44.918273901Z",
     "start_time": "2023-09-29T20:31:44.806231293Z"
    },
    "collapsed": false
   },
   "outputs": [],
   "source": [
    "from cleanup import clean_spaces, parse_cast, parse_year, parse_votes\n",
    "\n",
    "for column in df.columns:\n",
    "    df[column] = df[column].apply(clean_spaces)"
   ]
  },
  {
   "cell_type": "markdown",
   "id": "e0e73996",
   "metadata": {},
   "source": [
    "### Process cast -> (director, stars)"
   ]
  },
  {
   "cell_type": "code",
   "execution_count": 70,
   "id": "ccbd40d0",
   "metadata": {
    "ExecuteTime": {
     "end_time": "2023-09-29T20:31:44.918572472Z",
     "start_time": "2023-09-29T20:31:44.848829554Z"
    }
   },
   "outputs": [],
   "source": [
    "dirs_stars = df['cast'].apply(parse_cast)\n",
    "\n",
    "dirs, stars = zip(*dirs_stars)\n",
    "\n",
    "dirs, stars = list(dirs), list(stars)\n",
    "\n",
    "df['director'] = dirs\n",
    "df['stars'] = stars\n",
    "\n",
    "df = df.drop(columns=['cast'])"
   ]
  },
  {
   "cell_type": "markdown",
   "id": "3b110269",
   "metadata": {},
   "source": [
    "### Type coercions"
   ]
  },
  {
   "cell_type": "code",
   "execution_count": 71,
   "id": "95e708fb",
   "metadata": {
    "ExecuteTime": {
     "end_time": "2023-09-29T20:31:44.918768586Z",
     "start_time": "2023-09-29T20:31:44.849064709Z"
    }
   },
   "outputs": [],
   "source": [
    "df['year'] = df['year'].apply(parse_year)"
   ]
  },
  {
   "cell_type": "code",
   "execution_count": 72,
   "id": "c1bdbf5e",
   "metadata": {
    "ExecuteTime": {
     "end_time": "2023-09-29T20:31:44.919584679Z",
     "start_time": "2023-09-29T20:31:44.849212144Z"
    }
   },
   "outputs": [
    {
     "data": {
      "text/html": [
       "<div>\n",
       "<style scoped>\n",
       "    .dataframe tbody tr th:only-of-type {\n",
       "        vertical-align: middle;\n",
       "    }\n",
       "\n",
       "    .dataframe tbody tr th {\n",
       "        vertical-align: top;\n",
       "    }\n",
       "\n",
       "    .dataframe thead th {\n",
       "        text-align: right;\n",
       "    }\n",
       "</style>\n",
       "<table border=\"1\" class=\"dataframe\">\n",
       "  <thead>\n",
       "    <tr style=\"text-align: right;\">\n",
       "      <th></th>\n",
       "      <th>url</th>\n",
       "      <th>title</th>\n",
       "      <th>year</th>\n",
       "      <th>rating</th>\n",
       "      <th>runtime</th>\n",
       "      <th>certificate</th>\n",
       "      <th>genre</th>\n",
       "      <th>metascore</th>\n",
       "      <th>description</th>\n",
       "      <th>votes</th>\n",
       "      <th>gross</th>\n",
       "      <th>director</th>\n",
       "      <th>stars</th>\n",
       "    </tr>\n",
       "  </thead>\n",
       "  <tbody>\n",
       "    <tr>\n",
       "      <th>0</th>\n",
       "      <td>11737520</td>\n",
       "      <td>One Piece</td>\n",
       "      <td>2023–</td>\n",
       "      <td>8.5</td>\n",
       "      <td>60 min</td>\n",
       "      <td>TV-14</td>\n",
       "      <td>Action, Adventure, Comedy</td>\n",
       "      <td></td>\n",
       "      <td>In a seafaring world, a young pirate captain s...</td>\n",
       "      <td>80,433</td>\n",
       "      <td></td>\n",
       "      <td></td>\n",
       "      <td>Iñaki Godoy, Emily Rudd, Mackenyu, Vincent Regan</td>\n",
       "    </tr>\n",
       "    <tr>\n",
       "      <th>1</th>\n",
       "      <td>13622776</td>\n",
       "      <td>Ahsoka</td>\n",
       "      <td>2023–</td>\n",
       "      <td>8.0</td>\n",
       "      <td></td>\n",
       "      <td>TV-14</td>\n",
       "      <td>Action, Adventure, Drama</td>\n",
       "      <td></td>\n",
       "      <td>After the fall of the Galactic Empire, former ...</td>\n",
       "      <td>34,287</td>\n",
       "      <td></td>\n",
       "      <td></td>\n",
       "      <td>Rosario Dawson, Natasha Liu Bordizzo, Mary Eli...</td>\n",
       "    </tr>\n",
       "    <tr>\n",
       "      <th>2</th>\n",
       "      <td>7462410</td>\n",
       "      <td>The Wheel of Time</td>\n",
       "      <td>2021–</td>\n",
       "      <td>7.1</td>\n",
       "      <td>60 min</td>\n",
       "      <td>TV-14</td>\n",
       "      <td>Action, Adventure, Drama</td>\n",
       "      <td></td>\n",
       "      <td>Set in a high fantasy world where magic exists...</td>\n",
       "      <td>117,336</td>\n",
       "      <td></td>\n",
       "      <td></td>\n",
       "      <td>Rosamund Pike, Daniel Henney, Madeleine Madden...</td>\n",
       "    </tr>\n",
       "    <tr>\n",
       "      <th>3</th>\n",
       "      <td>0388629</td>\n",
       "      <td>One Piece</td>\n",
       "      <td>1999–</td>\n",
       "      <td>8.9</td>\n",
       "      <td>24 min</td>\n",
       "      <td>TV-14</td>\n",
       "      <td>Animation, Action, Adventure</td>\n",
       "      <td></td>\n",
       "      <td>Follows the adventures of Monkey D. Luffy and ...</td>\n",
       "      <td>191,111</td>\n",
       "      <td></td>\n",
       "      <td></td>\n",
       "      <td>Mayumi Tanaka, Akemi Okamura, Laurent Vernin, ...</td>\n",
       "    </tr>\n",
       "    <tr>\n",
       "      <th>4</th>\n",
       "      <td>15398776</td>\n",
       "      <td>Oppenheimer</td>\n",
       "      <td>2023</td>\n",
       "      <td>8.6</td>\n",
       "      <td>180 min</td>\n",
       "      <td>R</td>\n",
       "      <td>Biography, Drama, History</td>\n",
       "      <td>88</td>\n",
       "      <td>The story of American scientist, J. Robert Opp...</td>\n",
       "      <td>429,410</td>\n",
       "      <td></td>\n",
       "      <td>Christopher Nolan</td>\n",
       "      <td>Cillian Murphy, Emily Blunt, Matt Damon, Rober...</td>\n",
       "    </tr>\n",
       "  </tbody>\n",
       "</table>\n",
       "</div>"
      ],
      "text/plain": [
       "        url              title   year rating  runtime certificate  \\\n",
       "0  11737520          One Piece  2023–    8.5   60 min       TV-14   \n",
       "1  13622776             Ahsoka  2023–    8.0                TV-14   \n",
       "2   7462410  The Wheel of Time  2021–    7.1   60 min       TV-14   \n",
       "3   0388629          One Piece  1999–    8.9   24 min       TV-14   \n",
       "4  15398776        Oppenheimer   2023    8.6  180 min           R   \n",
       "\n",
       "                          genre metascore  \\\n",
       "0     Action, Adventure, Comedy             \n",
       "1      Action, Adventure, Drama             \n",
       "2      Action, Adventure, Drama             \n",
       "3  Animation, Action, Adventure             \n",
       "4     Biography, Drama, History        88   \n",
       "\n",
       "                                         description    votes gross  \\\n",
       "0  In a seafaring world, a young pirate captain s...   80,433         \n",
       "1  After the fall of the Galactic Empire, former ...   34,287         \n",
       "2  Set in a high fantasy world where magic exists...  117,336         \n",
       "3  Follows the adventures of Monkey D. Luffy and ...  191,111         \n",
       "4  The story of American scientist, J. Robert Opp...  429,410         \n",
       "\n",
       "            director                                              stars  \n",
       "0                      Iñaki Godoy, Emily Rudd, Mackenyu, Vincent Regan  \n",
       "1                     Rosario Dawson, Natasha Liu Bordizzo, Mary Eli...  \n",
       "2                     Rosamund Pike, Daniel Henney, Madeleine Madden...  \n",
       "3                     Mayumi Tanaka, Akemi Okamura, Laurent Vernin, ...  \n",
       "4  Christopher Nolan  Cillian Murphy, Emily Blunt, Matt Damon, Rober...  "
      ]
     },
     "execution_count": 72,
     "metadata": {},
     "output_type": "execute_result"
    }
   ],
   "source": [
    "df.head()"
   ]
  },
  {
   "cell_type": "code",
   "execution_count": 73,
   "id": "5665b6cc",
   "metadata": {
    "ExecuteTime": {
     "end_time": "2023-09-29T20:31:44.942557098Z",
     "start_time": "2023-09-29T20:31:44.853446890Z"
    }
   },
   "outputs": [],
   "source": [
    "df['votes'] = df['votes'].apply(parse_votes)"
   ]
  },
  {
   "cell_type": "code",
   "execution_count": 74,
   "id": "89e6abcd",
   "metadata": {
    "ExecuteTime": {
     "end_time": "2023-09-29T20:31:44.959281182Z",
     "start_time": "2023-09-29T20:31:44.895075756Z"
    }
   },
   "outputs": [],
   "source": [
    "df['rating'] = pd.to_numeric(df['rating'], errors='coerce')\n",
    "df['metascore'] = pd.to_numeric(df['metascore'], errors='coerce')\n",
    "df['gross'] = pd.to_numeric(df['gross'], errors='coerce')"
   ]
  },
  {
   "cell_type": "code",
   "execution_count": 75,
   "id": "588b0c31",
   "metadata": {
    "ExecuteTime": {
     "end_time": "2023-09-29T20:31:44.959596165Z",
     "start_time": "2023-09-29T20:31:44.895277597Z"
    }
   },
   "outputs": [],
   "source": [
    "import numpy as np\n",
    "\n",
    "df['runtime'] = df['runtime'].apply(lambda x: x.replace(',', '').removesuffix(' min') if x else 0)\n",
    "# df['runtime'] = pd.to_numeric(df['runtime'], downcast=\"integer\", errors='coerce')\n",
    "df['runtime'] = df['runtime'].astype(np.int64)"
   ]
  },
  {
   "cell_type": "code",
   "execution_count": 76,
   "id": "a6ef542a",
   "metadata": {
    "ExecuteTime": {
     "end_time": "2023-09-29T20:31:49.790350379Z",
     "start_time": "2023-09-29T20:31:49.773897978Z"
    }
   },
   "outputs": [
    {
     "data": {
      "text/html": [
       "<div>\n",
       "<style scoped>\n",
       "    .dataframe tbody tr th:only-of-type {\n",
       "        vertical-align: middle;\n",
       "    }\n",
       "\n",
       "    .dataframe tbody tr th {\n",
       "        vertical-align: top;\n",
       "    }\n",
       "\n",
       "    .dataframe thead th {\n",
       "        text-align: right;\n",
       "    }\n",
       "</style>\n",
       "<table border=\"1\" class=\"dataframe\">\n",
       "  <thead>\n",
       "    <tr style=\"text-align: right;\">\n",
       "      <th></th>\n",
       "      <th>url</th>\n",
       "      <th>title</th>\n",
       "      <th>year</th>\n",
       "      <th>rating</th>\n",
       "      <th>runtime</th>\n",
       "      <th>certificate</th>\n",
       "      <th>genre</th>\n",
       "      <th>metascore</th>\n",
       "      <th>description</th>\n",
       "      <th>votes</th>\n",
       "      <th>gross</th>\n",
       "      <th>director</th>\n",
       "      <th>stars</th>\n",
       "    </tr>\n",
       "  </thead>\n",
       "  <tbody>\n",
       "    <tr>\n",
       "      <th>0</th>\n",
       "      <td>11737520</td>\n",
       "      <td>One Piece</td>\n",
       "      <td>2023–</td>\n",
       "      <td>8.5</td>\n",
       "      <td>60</td>\n",
       "      <td>TV-14</td>\n",
       "      <td>Action, Adventure, Comedy</td>\n",
       "      <td>NaN</td>\n",
       "      <td>In a seafaring world, a young pirate captain s...</td>\n",
       "      <td>80433</td>\n",
       "      <td>NaN</td>\n",
       "      <td></td>\n",
       "      <td>Iñaki Godoy, Emily Rudd, Mackenyu, Vincent Regan</td>\n",
       "    </tr>\n",
       "    <tr>\n",
       "      <th>1</th>\n",
       "      <td>13622776</td>\n",
       "      <td>Ahsoka</td>\n",
       "      <td>2023–</td>\n",
       "      <td>8.0</td>\n",
       "      <td>0</td>\n",
       "      <td>TV-14</td>\n",
       "      <td>Action, Adventure, Drama</td>\n",
       "      <td>NaN</td>\n",
       "      <td>After the fall of the Galactic Empire, former ...</td>\n",
       "      <td>34287</td>\n",
       "      <td>NaN</td>\n",
       "      <td></td>\n",
       "      <td>Rosario Dawson, Natasha Liu Bordizzo, Mary Eli...</td>\n",
       "    </tr>\n",
       "    <tr>\n",
       "      <th>2</th>\n",
       "      <td>7462410</td>\n",
       "      <td>The Wheel of Time</td>\n",
       "      <td>2021–</td>\n",
       "      <td>7.1</td>\n",
       "      <td>60</td>\n",
       "      <td>TV-14</td>\n",
       "      <td>Action, Adventure, Drama</td>\n",
       "      <td>NaN</td>\n",
       "      <td>Set in a high fantasy world where magic exists...</td>\n",
       "      <td>117336</td>\n",
       "      <td>NaN</td>\n",
       "      <td></td>\n",
       "      <td>Rosamund Pike, Daniel Henney, Madeleine Madden...</td>\n",
       "    </tr>\n",
       "    <tr>\n",
       "      <th>3</th>\n",
       "      <td>0388629</td>\n",
       "      <td>One Piece</td>\n",
       "      <td>1999–</td>\n",
       "      <td>8.9</td>\n",
       "      <td>24</td>\n",
       "      <td>TV-14</td>\n",
       "      <td>Animation, Action, Adventure</td>\n",
       "      <td>NaN</td>\n",
       "      <td>Follows the adventures of Monkey D. Luffy and ...</td>\n",
       "      <td>191111</td>\n",
       "      <td>NaN</td>\n",
       "      <td></td>\n",
       "      <td>Mayumi Tanaka, Akemi Okamura, Laurent Vernin, ...</td>\n",
       "    </tr>\n",
       "    <tr>\n",
       "      <th>4</th>\n",
       "      <td>15398776</td>\n",
       "      <td>Oppenheimer</td>\n",
       "      <td>2023</td>\n",
       "      <td>8.6</td>\n",
       "      <td>180</td>\n",
       "      <td>R</td>\n",
       "      <td>Biography, Drama, History</td>\n",
       "      <td>88.0</td>\n",
       "      <td>The story of American scientist, J. Robert Opp...</td>\n",
       "      <td>429410</td>\n",
       "      <td>NaN</td>\n",
       "      <td>Christopher Nolan</td>\n",
       "      <td>Cillian Murphy, Emily Blunt, Matt Damon, Rober...</td>\n",
       "    </tr>\n",
       "  </tbody>\n",
       "</table>\n",
       "</div>"
      ],
      "text/plain": [
       "        url              title   year  rating  runtime certificate  \\\n",
       "0  11737520          One Piece  2023–     8.5       60       TV-14   \n",
       "1  13622776             Ahsoka  2023–     8.0        0       TV-14   \n",
       "2   7462410  The Wheel of Time  2021–     7.1       60       TV-14   \n",
       "3   0388629          One Piece  1999–     8.9       24       TV-14   \n",
       "4  15398776        Oppenheimer   2023     8.6      180           R   \n",
       "\n",
       "                          genre  metascore  \\\n",
       "0     Action, Adventure, Comedy        NaN   \n",
       "1      Action, Adventure, Drama        NaN   \n",
       "2      Action, Adventure, Drama        NaN   \n",
       "3  Animation, Action, Adventure        NaN   \n",
       "4     Biography, Drama, History       88.0   \n",
       "\n",
       "                                         description   votes  gross  \\\n",
       "0  In a seafaring world, a young pirate captain s...   80433    NaN   \n",
       "1  After the fall of the Galactic Empire, former ...   34287    NaN   \n",
       "2  Set in a high fantasy world where magic exists...  117336    NaN   \n",
       "3  Follows the adventures of Monkey D. Luffy and ...  191111    NaN   \n",
       "4  The story of American scientist, J. Robert Opp...  429410    NaN   \n",
       "\n",
       "            director                                              stars  \n",
       "0                      Iñaki Godoy, Emily Rudd, Mackenyu, Vincent Regan  \n",
       "1                     Rosario Dawson, Natasha Liu Bordizzo, Mary Eli...  \n",
       "2                     Rosamund Pike, Daniel Henney, Madeleine Madden...  \n",
       "3                     Mayumi Tanaka, Akemi Okamura, Laurent Vernin, ...  \n",
       "4  Christopher Nolan  Cillian Murphy, Emily Blunt, Matt Damon, Rober...  "
      ]
     },
     "execution_count": 76,
     "metadata": {},
     "output_type": "execute_result"
    }
   ],
   "source": [
    "df.head()"
   ]
  },
  {
   "cell_type": "code",
   "execution_count": 77,
   "id": "84068b1c16be15c4",
   "metadata": {
    "ExecuteTime": {
     "end_time": "2023-09-29T20:31:57.433112421Z",
     "start_time": "2023-09-29T20:31:57.427032123Z"
    },
    "collapsed": false
   },
   "outputs": [
    {
     "data": {
      "text/plain": [
       "url             object\n",
       "title           object\n",
       "year            object\n",
       "rating         float64\n",
       "runtime          int64\n",
       "certificate     object\n",
       "genre           object\n",
       "metascore      float64\n",
       "description     object\n",
       "votes            int64\n",
       "gross          float64\n",
       "director        object\n",
       "stars           object\n",
       "dtype: object"
      ]
     },
     "execution_count": 77,
     "metadata": {},
     "output_type": "execute_result"
    }
   ],
   "source": [
    "df.dtypes"
   ]
  },
  {
   "cell_type": "code",
   "execution_count": 78,
   "id": "8201effe91f92f30",
   "metadata": {
    "ExecuteTime": {
     "end_time": "2023-09-29T20:32:59.531381264Z",
     "start_time": "2023-09-29T20:32:59.468274510Z"
    },
    "collapsed": false
   },
   "outputs": [],
   "source": [
    "df.to_csv('imdb_clean.csv', index=False)"
   ]
  },
  {
   "cell_type": "code",
   "execution_count": null,
   "id": "5014269f",
   "metadata": {},
   "outputs": [],
   "source": [
    "from boxoffice import create_boxoffice_df\n",
    "\n",
    "ids = df['url'].to_list()\n",
    "\n",
    "# df = create_boxoffice_df(ids)\n",
    "# df.to_csv('boxoffice.csv', index=False)"
   ]
  },
  {
   "cell_type": "code",
   "execution_count": 79,
   "id": "2971b6f9",
   "metadata": {
    "ExecuteTime": {
     "end_time": "2023-09-29T20:34:20.482325678Z",
     "start_time": "2023-09-29T20:34:20.438867185Z"
    }
   },
   "outputs": [],
   "source": [
    "df = pd.read_csv('boxoffice.csv', dtype='str', keep_default_na=False)"
   ]
  },
  {
   "cell_type": "code",
   "execution_count": 80,
   "id": "4a1745c4",
   "metadata": {
    "ExecuteTime": {
     "end_time": "2023-09-29T20:34:21.162064018Z",
     "start_time": "2023-09-29T20:34:21.158685245Z"
    }
   },
   "outputs": [
    {
     "data": {
      "text/html": [
       "<div>\n",
       "<style scoped>\n",
       "    .dataframe tbody tr th:only-of-type {\n",
       "        vertical-align: middle;\n",
       "    }\n",
       "\n",
       "    .dataframe tbody tr th {\n",
       "        vertical-align: top;\n",
       "    }\n",
       "\n",
       "    .dataframe thead th {\n",
       "        text-align: right;\n",
       "    }\n",
       "</style>\n",
       "<table border=\"1\" class=\"dataframe\">\n",
       "  <thead>\n",
       "    <tr style=\"text-align: right;\">\n",
       "      <th></th>\n",
       "      <th>id</th>\n",
       "      <th>domestic</th>\n",
       "      <th>domestic_percent</th>\n",
       "      <th>international</th>\n",
       "      <th>international_percent</th>\n",
       "      <th>worldwide</th>\n",
       "      <th>domestic_opening</th>\n",
       "      <th>budget</th>\n",
       "      <th>release_date</th>\n",
       "      <th>distributor</th>\n",
       "    </tr>\n",
       "  </thead>\n",
       "  <tbody>\n",
       "    <tr>\n",
       "      <th>0</th>\n",
       "      <td>11737520</td>\n",
       "      <td></td>\n",
       "      <td></td>\n",
       "      <td></td>\n",
       "      <td></td>\n",
       "      <td></td>\n",
       "      <td></td>\n",
       "      <td></td>\n",
       "      <td></td>\n",
       "      <td></td>\n",
       "    </tr>\n",
       "    <tr>\n",
       "      <th>1</th>\n",
       "      <td>13622776</td>\n",
       "      <td></td>\n",
       "      <td></td>\n",
       "      <td></td>\n",
       "      <td></td>\n",
       "      <td></td>\n",
       "      <td></td>\n",
       "      <td></td>\n",
       "      <td></td>\n",
       "      <td></td>\n",
       "    </tr>\n",
       "    <tr>\n",
       "      <th>2</th>\n",
       "      <td>7462410</td>\n",
       "      <td></td>\n",
       "      <td></td>\n",
       "      <td></td>\n",
       "      <td></td>\n",
       "      <td></td>\n",
       "      <td></td>\n",
       "      <td></td>\n",
       "      <td></td>\n",
       "      <td></td>\n",
       "    </tr>\n",
       "    <tr>\n",
       "      <th>3</th>\n",
       "      <td>0388629</td>\n",
       "      <td></td>\n",
       "      <td></td>\n",
       "      <td></td>\n",
       "      <td></td>\n",
       "      <td></td>\n",
       "      <td></td>\n",
       "      <td></td>\n",
       "      <td></td>\n",
       "      <td></td>\n",
       "    </tr>\n",
       "    <tr>\n",
       "      <th>4</th>\n",
       "      <td>15398776</td>\n",
       "      <td>$318,639,115</td>\n",
       "      <td>34.9%</td>\n",
       "      <td>$594,062,000</td>\n",
       "      <td>65.1%</td>\n",
       "      <td>$912,701,115</td>\n",
       "      <td>$82,455,420</td>\n",
       "      <td></td>\n",
       "      <td>July 19, 2023\\n            (EMEA, APAC)</td>\n",
       "      <td>Universal PicturesSee full company information</td>\n",
       "    </tr>\n",
       "  </tbody>\n",
       "</table>\n",
       "</div>"
      ],
      "text/plain": [
       "         id      domestic domestic_percent international  \\\n",
       "0  11737520                                                \n",
       "1  13622776                                                \n",
       "2   7462410                                                \n",
       "3   0388629                                                \n",
       "4  15398776  $318,639,115            34.9%  $594,062,000   \n",
       "\n",
       "  international_percent     worldwide domestic_opening budget  \\\n",
       "0                                                               \n",
       "1                                                               \n",
       "2                                                               \n",
       "3                                                               \n",
       "4                 65.1%  $912,701,115      $82,455,420          \n",
       "\n",
       "                              release_date  \\\n",
       "0                                            \n",
       "1                                            \n",
       "2                                            \n",
       "3                                            \n",
       "4  July 19, 2023\\n            (EMEA, APAC)   \n",
       "\n",
       "                                      distributor  \n",
       "0                                                  \n",
       "1                                                  \n",
       "2                                                  \n",
       "3                                                  \n",
       "4  Universal PicturesSee full company information  "
      ]
     },
     "execution_count": 80,
     "metadata": {},
     "output_type": "execute_result"
    }
   ],
   "source": [
    "df.head()"
   ]
  },
  {
   "cell_type": "code",
   "execution_count": 89,
   "id": "3c8bcf3de2de744",
   "metadata": {
    "ExecuteTime": {
     "end_time": "2023-09-29T20:39:35.034895560Z",
     "start_time": "2023-09-29T20:39:35.033238579Z"
    },
    "collapsed": false
   },
   "outputs": [],
   "source": [
    "length = len(df)"
   ]
  },
  {
   "cell_type": "code",
   "execution_count": 90,
   "id": "4d229a44",
   "metadata": {
    "ExecuteTime": {
     "end_time": "2023-09-29T20:39:35.586671417Z",
     "start_time": "2023-09-29T20:39:35.582475013Z"
    }
   },
   "outputs": [
    {
     "name": "stdout",
     "output_type": "stream",
     "text": [
      "id 1.0\n",
      "domestic 0.5663132626525305\n",
      "domestic_percent 0.5663132626525305\n",
      "international 0.5663132626525305\n",
      "international_percent 0.5663132626525305\n",
      "worldwide 0.39797959591918386\n",
      "domestic_opening 0.45609121824364873\n",
      "budget 0.22694538907781556\n",
      "release_date 0.5858171634326865\n",
      "distributor 0.5273054610922184\n"
     ]
    }
   ],
   "source": [
    "for col in df.columns:\n",
    "    empty = df[col].apply(lambda x: False if x == '' else True)\n",
    "    nans = empty.sum() / length\n",
    "    print(col, nans)"
   ]
  },
  {
   "cell_type": "markdown",
   "id": "8752a869893fd11f",
   "metadata": {
    "collapsed": false
   },
   "source": [
    "# Затем можно сделать Join. Однако удобнее оставить данные двумя датасетами."
   ]
  }
 ],
 "metadata": {
  "kernelspec": {
   "display_name": "Python 3 (ipykernel)",
   "language": "python",
   "name": "python3"
  },
  "language_info": {
   "codemirror_mode": {
    "name": "ipython",
    "version": 3
   },
   "file_extension": ".py",
   "mimetype": "text/x-python",
   "name": "python",
   "nbconvert_exporter": "python",
   "pygments_lexer": "ipython3",
   "version": "3.11.5"
  }
 },
 "nbformat": 4,
 "nbformat_minor": 5
}
