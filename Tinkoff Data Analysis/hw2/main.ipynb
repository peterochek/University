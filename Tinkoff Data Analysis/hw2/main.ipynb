{
 "cells": [
  {
   "cell_type": "code",
   "execution_count": 2,
   "metadata": {},
   "outputs": [],
   "source": [
    "import pandas as pd"
   ]
  },
  {
   "cell_type": "markdown",
   "metadata": {},
   "source": [
    "### Part 1"
   ]
  },
  {
   "cell_type": "code",
   "execution_count": 3,
   "metadata": {},
   "outputs": [
    {
     "name": "stderr",
     "output_type": "stream",
     "text": [
      "/tmp/ipykernel_6086/3472909224.py:5: FutureWarning: The default of observed=False is deprecated and will be changed to True in a future version of pandas. Pass observed=False to retain current behavior or observed=True to adopt the future default and silence this warning.\n",
      "  reposts_by_age_group = reposts_df.groupby('age_group').size()\n"
     ]
    },
    {
     "data": {
      "text/plain": [
       "(Interval(30, 35, closed='right'), 245)"
      ]
     },
     "execution_count": 3,
     "metadata": {},
     "output_type": "execute_result"
    }
   ],
   "source": [
    "df = pd.read_csv('./final_ff_1.csv', sep =';')\n",
    "age_groups = range(0, max(df.age) + 1, 5)\n",
    "df['age_group'] = pd.cut(df['age'], bins=age_groups)\n",
    "reposts_df = df[df['share_tap_flg'] == 1]\n",
    "reposts_by_age_group = reposts_df.groupby('age_group').size()\n",
    "max_reposts_age_group = reposts_by_age_group.idxmax()\n",
    "max_reposts_age_group, reposts_by_age_group[max_reposts_age_group]"
   ]
  },
  {
   "cell_type": "code",
   "execution_count": 5,
   "metadata": {},
   "outputs": [
    {
     "data": {
      "text/plain": [
       "user_id             object\n",
       "date_               object\n",
       "prosmotr             int64\n",
       "story_id             int64\n",
       "age                  int64\n",
       "device_type         object\n",
       "app_or_web          object\n",
       "browser             object\n",
       "os                  object\n",
       "gender              object\n",
       "geo_country         object\n",
       "geo_region          object\n",
       "geo_city            object\n",
       "day_of_week         object\n",
       "user_hour           object\n",
       "button_tap_flg       int64\n",
       "like_tap_flg         int64\n",
       "share_tap_flg        int64\n",
       "favorite_tap_flg     int64\n",
       "name                object\n",
       "dtype: object"
      ]
     },
     "execution_count": 5,
     "metadata": {},
     "output_type": "execute_result"
    }
   ],
   "source": [
    "df = pd.read_csv('./final_ff_1.csv', sep =';')\n",
    "df.dtypes"
   ]
  },
  {
   "cell_type": "code",
   "execution_count": 6,
   "metadata": {},
   "outputs": [],
   "source": [
    "df.to_csv(\"good.csv\",header=False, index=False)"
   ]
  },
  {
   "cell_type": "code",
   "execution_count": null,
   "metadata": {},
   "outputs": [],
   "source": []
  },
  {
   "cell_type": "markdown",
   "metadata": {},
   "source": [
    "### Part 3"
   ]
  },
  {
   "cell_type": "code",
   "execution_count": null,
   "metadata": {},
   "outputs": [],
   "source": []
  }
 ],
 "metadata": {
  "kernelspec": {
   "display_name": "venv",
   "language": "python",
   "name": "python3"
  },
  "language_info": {
   "codemirror_mode": {
    "name": "ipython",
    "version": 3
   },
   "file_extension": ".py",
   "mimetype": "text/x-python",
   "name": "python",
   "nbconvert_exporter": "python",
   "pygments_lexer": "ipython3",
   "version": "3.11.8"
  }
 },
 "nbformat": 4,
 "nbformat_minor": 2
}
