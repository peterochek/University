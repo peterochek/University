{
 "cells": [
  {
   "cell_type": "code",
   "execution_count": null,
   "metadata": {},
   "outputs": [],
   "source": [
    "import numpy as np\n",
    "import matplotlib.pyplot as plt\n",
    "\n",
    "# Parameters\n",
    "sample_size = 1000  # Size of each sample\n",
    "num_samples = 1000  # Number of samples to generate\n",
    "lambda_param = 1.0  # Rate parameter for the exponential distribution\n",
    "\n",
    "# Initialize arrays to store statistics\n",
    "sample_means = []\n",
    "sample_variances = []\n",
    "sample_quantiles = []"
   ]
  },
  {
   "cell_type": "code",
   "execution_count": null,
   "metadata": {},
   "outputs": [],
   "source": [
    "# Generate samples and calculate statistics\n",
    "for _ in range(num_samples):\n",
    "    # Generate a sample from the exponential distribution\n",
    "    sample = np.random.exponential(scale=1/lambda_param, size=sample_size)\n",
    "    \n",
    "    # Calculate statistics\n",
    "    sample_means.append(np.mean(sample))\n",
    "    sample_variances.append(np.var(sample))\n",
    "    sample_quantiles.append(np.percentile(sample, 50))  # 50th percentile is the median"
   ]
  },
  {
   "cell_type": "code",
   "execution_count": null,
   "metadata": {},
   "outputs": [],
   "source": [
    "def stats(sample):\n",
    "    print(f\"mean={np.mean(sample)} var={np.var(sample)} median={np.percentile(sample, 50)}\")"
   ]
  },
  {
   "cell_type": "code",
   "execution_count": null,
   "metadata": {},
   "outputs": [],
   "source": [
    "# Sample Mean\n",
    "plt.figure(figsize=(5, 5))\n",
    "plt.hist(sample_means, bins=30, density=True, alpha=0.6, color='b', label='Sample Mean Histogram')\n",
    "plt.title('Sample Mean')\n",
    "plt.legend()\n",
    "plt.show()\n",
    "stats(sample_means)"
   ]
  },
  {
   "cell_type": "code",
   "execution_count": null,
   "metadata": {},
   "outputs": [],
   "source": [
    "# Sample Variance\n",
    "plt.figure(figsize=(5, 5))\n",
    "plt.hist(sample_variances, bins=30, density=True, alpha=0.6, color='g', label='Sample Variance Histogram')\n",
    "plt.title('Sample Variance')\n",
    "plt.legend()\n",
    "plt.show()\n",
    "stats(sample_variances)"
   ]
  },
  {
   "cell_type": "code",
   "execution_count": null,
   "metadata": {},
   "outputs": [],
   "source": [
    "# Sample Quantile (Median)\n",
    "plt.figure(figsize=(5, 5))\n",
    "plt.hist(sample_quantiles, bins=30, density=True, alpha=0.6, color='y', label='Sample Median Histogram')\n",
    "plt.title('Sample Median (Quantile)')\n",
    "plt.legend()\n",
    "plt.show()\n",
    "stats(sample_quantiles)"
   ]
  }
 ],
 "metadata": {
  "kernelspec": {
   "display_name": "torch",
   "language": "python",
   "name": "python3"
  },
  "language_info": {
   "codemirror_mode": {
    "name": "ipython",
    "version": 3
   },
   "file_extension": ".py",
   "mimetype": "text/x-python",
   "name": "python",
   "nbconvert_exporter": "python",
   "pygments_lexer": "ipython3",
   "version": "3.11.4"
  },
  "orig_nbformat": 4
 },
 "nbformat": 4,
 "nbformat_minor": 2
}
