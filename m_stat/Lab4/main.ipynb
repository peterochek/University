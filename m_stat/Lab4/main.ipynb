{
 "cells": [
  {
   "cell_type": "code",
   "execution_count": 1,
   "metadata": {},
   "outputs": [],
   "source": [
    "import numpy as np\n",
    "import pandas as pd\n",
    "from scipy import stats"
   ]
  },
  {
   "cell_type": "code",
   "execution_count": 2,
   "metadata": {},
   "outputs": [],
   "source": [
    "data = pd.read_csv('exams_dataset.csv')"
   ]
  },
  {
   "cell_type": "markdown",
   "metadata": {},
   "source": [
    "### Вопрос 1: Можно ли предположить, что статистически количество мужчин и женщин, сдающих экзамены, неразличимо?\n",
    "\n",
    "Нулевая гипотеза (H0): количество мужчин и женщин, сдающих экзамены, неразличимо. \\\n",
    "Альтернативная гипотеза (H1): Количество мужчин и женщин, сдающих экзамены, различимо.\n",
    "\n",
    "Чтобы проверить эту гипотезу, используем критерий хи-квадрат на независимость:"
   ]
  },
  {
   "cell_type": "code",
   "execution_count": 3,
   "metadata": {},
   "outputs": [
    {
     "name": "stdout",
     "output_type": "stream",
     "text": [
      "res.statistic=0.144\n",
      "res.pvalue=0.7043364134884518\n"
     ]
    }
   ],
   "source": [
    "contingency_table = pd.crosstab(data['gender'], columns='count')\n",
    "res = stats.chisquare(contingency_table['count']) # categories are equally liked\n",
    "print(f'{res.statistic=}')\n",
    "print(f'{res.pvalue=}')"
   ]
  },
  {
   "cell_type": "code",
   "execution_count": 4,
   "metadata": {},
   "outputs": [
    {
     "data": {
      "text/html": [
       "<div>\n",
       "<style scoped>\n",
       "    .dataframe tbody tr th:only-of-type {\n",
       "        vertical-align: middle;\n",
       "    }\n",
       "\n",
       "    .dataframe tbody tr th {\n",
       "        vertical-align: top;\n",
       "    }\n",
       "\n",
       "    .dataframe thead th {\n",
       "        text-align: right;\n",
       "    }\n",
       "</style>\n",
       "<table border=\"1\" class=\"dataframe\">\n",
       "  <thead>\n",
       "    <tr style=\"text-align: right;\">\n",
       "      <th>col_0</th>\n",
       "      <th>count</th>\n",
       "    </tr>\n",
       "    <tr>\n",
       "      <th>gender</th>\n",
       "      <th></th>\n",
       "    </tr>\n",
       "  </thead>\n",
       "  <tbody>\n",
       "    <tr>\n",
       "      <th>female</th>\n",
       "      <td>494</td>\n",
       "    </tr>\n",
       "    <tr>\n",
       "      <th>male</th>\n",
       "      <td>506</td>\n",
       "    </tr>\n",
       "  </tbody>\n",
       "</table>\n",
       "</div>"
      ],
      "text/plain": [
       "col_0   count\n",
       "gender       \n",
       "female    494\n",
       "male      506"
      ]
     },
     "execution_count": 4,
     "metadata": {},
     "output_type": "execute_result"
    }
   ],
   "source": [
    "contingency_table"
   ]
  },
  {
   "cell_type": "markdown",
   "metadata": {},
   "source": [
    "### Не отвергаем H0 => количество неразличимо"
   ]
  },
  {
   "cell_type": "markdown",
   "metadata": {},
   "source": [
    "Статистический тест: критерий независимости Хи-квадрат.\n",
    "\n",
    "Описание/пояснение: Критерий независимости хи-квадрат используется для определения наличия значимой связи между двумя категориальными переменными. В этом случае мы бы использовали его, чтобы проверить, существует ли существенная связь между полом и количеством людей, пишущих тест.\n",
    "\n",
    "1. Статистика: Статистика Хи-квадрат.\n",
    "2. Распределение при условии нулевой гипотезы: распределение Хи-квадрат с (r-1) x (c-1) степенями свободы, где r - количество строк, а c - количество столбцов в `contingency_table`\n",
    "3. Тип критической области: двусторонняя критическая область."
   ]
  },
  {
   "cell_type": "markdown",
   "metadata": {},
   "source": [
    "### Вопрос 2: Тот же вопрос об этнической принадлежности.\n",
    "\n",
    "Нулевая гипотеза (H0): количество людей разных национальностей, пишущих экзамены, неразличимо. \\\n",
    "Альтернативная гипотеза (H1): Количество людей разных национальностей, пишущих экзамены, различимо.\n",
    "\n",
    "Выполняем еще один тест на независимость по хи-квадрату, на этот раз с переменной ```\"race/ethnicity\"```."
   ]
  },
  {
   "cell_type": "code",
   "execution_count": 5,
   "metadata": {},
   "outputs": [
    {
     "name": "stdout",
     "output_type": "stream",
     "text": [
      "res.statistic=192.98999999999998\n",
      "res.pvalue=1.2070807175456277e-40\n"
     ]
    }
   ],
   "source": [
    "contingency_table = pd.crosstab(data[\"race/ethnicity\"], columns='count')\n",
    "res = stats.chisquare(contingency_table['count'])\n",
    "print(f'{res.statistic=}')\n",
    "print(f'{res.pvalue=}')"
   ]
  },
  {
   "cell_type": "code",
   "execution_count": 6,
   "metadata": {},
   "outputs": [
    {
     "data": {
      "text/html": [
       "<div>\n",
       "<style scoped>\n",
       "    .dataframe tbody tr th:only-of-type {\n",
       "        vertical-align: middle;\n",
       "    }\n",
       "\n",
       "    .dataframe tbody tr th {\n",
       "        vertical-align: top;\n",
       "    }\n",
       "\n",
       "    .dataframe thead th {\n",
       "        text-align: right;\n",
       "    }\n",
       "</style>\n",
       "<table border=\"1\" class=\"dataframe\">\n",
       "  <thead>\n",
       "    <tr style=\"text-align: right;\">\n",
       "      <th>col_0</th>\n",
       "      <th>count</th>\n",
       "    </tr>\n",
       "    <tr>\n",
       "      <th>race/ethnicity</th>\n",
       "      <th></th>\n",
       "    </tr>\n",
       "  </thead>\n",
       "  <tbody>\n",
       "    <tr>\n",
       "      <th>group A</th>\n",
       "      <td>77</td>\n",
       "    </tr>\n",
       "    <tr>\n",
       "      <th>group B</th>\n",
       "      <td>204</td>\n",
       "    </tr>\n",
       "    <tr>\n",
       "      <th>group C</th>\n",
       "      <td>324</td>\n",
       "    </tr>\n",
       "    <tr>\n",
       "      <th>group D</th>\n",
       "      <td>261</td>\n",
       "    </tr>\n",
       "    <tr>\n",
       "      <th>group E</th>\n",
       "      <td>134</td>\n",
       "    </tr>\n",
       "  </tbody>\n",
       "</table>\n",
       "</div>"
      ],
      "text/plain": [
       "col_0           count\n",
       "race/ethnicity       \n",
       "group A            77\n",
       "group B           204\n",
       "group C           324\n",
       "group D           261\n",
       "group E           134"
      ]
     },
     "execution_count": 6,
     "metadata": {},
     "output_type": "execute_result"
    }
   ],
   "source": [
    "contingency_table"
   ]
  },
  {
   "cell_type": "markdown",
   "metadata": {},
   "source": [
    "### С уверенностью отвергаем H0 => количество различимо"
   ]
  },
  {
   "cell_type": "markdown",
   "metadata": {},
   "source": [
    "Статистический тест: критерий Хи-квадрат на независимость (отдельно для каждого вопроса).\n",
    "\n",
    "Описание/пояснение: Аналогично первому вопросу, но теперь применяется отдельно к каждому вопросу теста. Мы проверяем, существует ли существенная связь между этнической принадлежностью и количеством людей, пишущих каждый вопрос.\n",
    "\n",
    "1. Статистика: Статистика Хи-квадрат (отдельно для каждого вопроса).\n",
    "2. Распределение при условии нулевой гипотезы: распределение Хи-квадрат с (r-1) степенями свободы, где r - количество категорий для этнической принадлежности.\n",
    "3. Тип критической области: двусторонняя критическая область."
   ]
  },
  {
   "cell_type": "markdown",
   "metadata": {},
   "source": [
    "### Вопрос 3: Проверьте гипотезу об однородности результатов по математике и письменной части (письму).\n",
    "\n",
    "Нулевая гипотеза (H0): Результаты по математике и письму одинаковы. \\\n",
    "Альтернативная гипотеза (H1): Результаты по математике и письму неодинаковы.\n",
    "\n",
    "Выполняем парный t-тест, чтобы сравнить результаты по математике и письму:"
   ]
  },
  {
   "cell_type": "code",
   "execution_count": 7,
   "metadata": {},
   "outputs": [],
   "source": [
    "# Используем ttest_rel для зависимых\n",
    "res = stats.ttest_rel(data['math score'], data['writing score'])"
   ]
  },
  {
   "cell_type": "code",
   "execution_count": 8,
   "metadata": {},
   "outputs": [
    {
     "name": "stdout",
     "output_type": "stream",
     "text": [
      "res.statistic=-6.652585439515546\n",
      "res.pvalue=4.736787232699879e-11\n",
      "res.df=999\n",
      "interval: [-2.5407394963580052, -1.3832605036419947]\n"
     ]
    }
   ],
   "source": [
    "print(f'{res.statistic=}')\n",
    "print(f'{res.pvalue=}')\n",
    "print(f'{res.df=}')\n",
    "print(f'interval: [{res.confidence_interval().low}, {res.confidence_interval().high}]')"
   ]
  },
  {
   "cell_type": "markdown",
   "metadata": {},
   "source": [
    "### С уверенностью отвергаем H0 => результаты по математике и письму различимы"
   ]
  },
  {
   "cell_type": "markdown",
   "metadata": {},
   "source": [
    "Статистический тест: t-тест с одной выборкой.\n",
    "\n",
    "Описание/пояснение: t-критерий для одной выборки используется для сравнения среднего значения выборки с известным значением (в данном случае, средним значением равномерного распределения).\n",
    "\n",
    "1. Статистика: t-статистика.\n",
    "2. Распределение при условии нулевой гипотезы: t-распределение с (n - 1) степенями свободы, где n - размер выборки.\n",
    "3. Тип критической области: Критическая область с двумя концами.\n",
    "\n",
    "Этот подход предполагает, что нулевая гипотеза подразумевает равномерное распределение баллов, и мы проверяем, существенно ли наблюдаемое распределение отличается от этого ожидания."
   ]
  },
  {
   "cell_type": "markdown",
   "metadata": {},
   "source": [
    "## Второй тест Колмогорова-Смирнова для проверки однородности распределений"
   ]
  },
  {
   "cell_type": "markdown",
   "metadata": {},
   "source": [
    "Сделан для проверки гипотезы о том, что две выборки из одного рапсределения \\\n",
    "Область двусторонняя"
   ]
  },
  {
   "cell_type": "code",
   "execution_count": 9,
   "metadata": {},
   "outputs": [
    {
     "name": "stdout",
     "output_type": "stream",
     "text": [
      "res.statistic=0.061\n",
      "res.pvalue=0.04839715079181246\n"
     ]
    }
   ],
   "source": [
    "res = stats.ks_2samp(data['math score'], data['writing score'])\n",
    "print(f'{res.statistic=}')\n",
    "print(f'{res.pvalue=}')"
   ]
  },
  {
   "cell_type": "markdown",
   "metadata": {},
   "source": [
    "### $pvalue < 0.05 \\Rightarrow отвергаем$"
   ]
  },
  {
   "cell_type": "markdown",
   "metadata": {},
   "source": [
    "### Вопрос 4: Правда ли, что те, кто закончил подготовительные курсы, лучше сдали экзамены?\n",
    "\n",
    "Нулевая гипотеза (H0): Прохождение подготовительных курсов не влияет на успеваемость на экзамене. \\\n",
    "Альтернативная гипотеза (H1): Прохождение подготовительных курсов влияет на успеваемость на экзамене.\n",
    "\n",
    "Выполняем t-критерий с двумя выборками, чтобы сравнить результаты тех, кто завершил курс, с теми, кто этого не сделал:"
   ]
  },
  {
   "cell_type": "code",
   "execution_count": 10,
   "metadata": {},
   "outputs": [],
   "source": [
    "# Используем ttest_ind для независимых\n",
    "completed = data[data['test preparation course'] == 'completed']['math score']\n",
    "not_completed = data[data['test preparation course'] == 'none']['math score']\n",
    "res = stats.ttest_ind(completed, not_completed)"
   ]
  },
  {
   "cell_type": "code",
   "execution_count": 11,
   "metadata": {},
   "outputs": [
    {
     "name": "stdout",
     "output_type": "stream",
     "text": [
      "res.statistic=5.5589194118951095\n",
      "res.pvalue=3.483493224877811e-08\n",
      "res.df=998.0\n",
      "interval: [3.768770670960493, 7.881362662372837]\n"
     ]
    }
   ],
   "source": [
    "print(f'{res.statistic=}')\n",
    "print(f'{res.pvalue=}')\n",
    "print(f'{res.df=}')\n",
    "print(f'interval: [{res.confidence_interval().low}, {res.confidence_interval().high}]')"
   ]
  },
  {
   "cell_type": "markdown",
   "metadata": {},
   "source": [
    "### С уверенностью отвергаем H0 => курсы влияют на успеваемость"
   ]
  },
  {
   "cell_type": "markdown",
   "metadata": {},
   "source": [
    "Статистический тест: t-критерий независимых выборок (при условии, что данные распределены приблизительно нормально).\n",
    "\n",
    "Описание/пояснение: t-критерий независимых выборок используется для сравнения средних значений двух независимых групп, чтобы определить, есть ли между ними существенная разница.\n",
    "\n",
    "1. Статистика: t-статистика.\n",
    "2. Распределение при условии нулевой гипотезы: t-распределение с (n1 + n2 - 2) степенями свободы, где n1 и n2 - размеры выборки двух групп.\n",
    "3. Тип критической области: Двухвостая критическая область."
   ]
  },
  {
   "cell_type": "markdown",
   "metadata": {},
   "source": [
    "## Используем U test Манна-Уитни"
   ]
  },
  {
   "cell_type": "markdown",
   "metadata": {},
   "source": [
    "Сделан для малых непараметрических ($U$ not from $Norm(\\mu, \\sigma)$ / распределены в интервале) выборок \\\n",
    "Область двусторонняя"
   ]
  },
  {
   "cell_type": "code",
   "execution_count": 12,
   "metadata": {},
   "outputs": [],
   "source": [
    "completed = data[data['test preparation course'] == 'completed']['math score']\n",
    "not_completed = data[data['test preparation course'] == 'none']['math score']\n",
    "res = stats.mannwhitneyu(completed, not_completed)"
   ]
  },
  {
   "cell_type": "code",
   "execution_count": 13,
   "metadata": {},
   "outputs": [
    {
     "name": "stdout",
     "output_type": "stream",
     "text": [
      "res.statistic=140075.0\n",
      "res.pvalue=2.2533705495929116e-07\n"
     ]
    }
   ],
   "source": [
    "print(f'{res.statistic=}')\n",
    "print(f'{res.pvalue=}')"
   ]
  },
  {
   "cell_type": "markdown",
   "metadata": {},
   "source": [
    "## Отвергаем => курсы влияют"
   ]
  },
  {
   "cell_type": "markdown",
   "metadata": {},
   "source": [
    "## Почему в 3 задании rel, а в 4 ind?"
   ]
  },
  {
   "cell_type": "markdown",
   "metadata": {},
   "source": [
    "### ttest_ind (t-test независимых выборок):\n",
    "Пример использования: Этот тест используется при сравнении средних значений двух независимых групп, чтобы определить, есть ли между ними статистически значимая разница.\n",
    "\n",
    "Пример сценария: Если у вас есть две отдельные группы участников (например, группа, которая закончила подготовительные курсы, и группа, которая этого не сделала), и вы хотите проверить, есть ли существенная разница в их экзаменационных баллах.\n",
    "\n",
    "### ttest_rel (t-test парных выборок):\n",
    "Пример использования: Этот тест используется при сравнении средних значений двух связанных групп, часто когда для каждого измерения используются одни и те же испытуемые (разработка парных или повторяющихся измерений).\n",
    "\n",
    "Пример сценария: Если у вас есть одна группа участников, и вы измеряете их результаты на экзаменах до и после завершения подготовительных курсов, вы можете использовать t-тест с парными выборками, чтобы определить, есть ли существенная разница в их результатах."
   ]
  },
  {
   "cell_type": "markdown",
   "metadata": {},
   "source": [
    "### Предположили что есть зависимость между баллами по разным предметам у одного человека!\n",
    "### Можно было выдвинуть другой теорию, остановились на этой."
   ]
  },
  {
   "cell_type": "markdown",
   "metadata": {},
   "source": [
    "## Итого"
   ]
  },
  {
   "cell_type": "markdown",
   "metadata": {},
   "source": [
    "## Разные стат тесты могут отвергать / не отвергать H0 на одной и той же задаче, тогда нужно проводить более глубокое статистическое исследование. Наши примеры были очевидны, поэтому тесты согласовывались."
   ]
  },
  {
   "cell_type": "markdown",
   "metadata": {},
   "source": [
    "Проверяем значения p для каждого теста. \\\n",
    "Если значение p меньше выбранного нами уровня значимости (например, 0,05), отвергаем нулевую гипотезу. Если значение p больше, тогда не можем отвергнуть нулевую гипотезу."
   ]
  }
 ],
 "metadata": {
  "kernelspec": {
   "display_name": "uni",
   "language": "python",
   "name": "python3"
  },
  "language_info": {
   "codemirror_mode": {
    "name": "ipython",
    "version": 3
   },
   "file_extension": ".py",
   "mimetype": "text/x-python",
   "name": "python",
   "nbconvert_exporter": "python",
   "pygments_lexer": "ipython3",
   "version": "3.11.5"
  }
 },
 "nbformat": 4,
 "nbformat_minor": 2
}
